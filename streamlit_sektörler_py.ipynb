{
  "nbformat": 4,
  "nbformat_minor": 0,
  "metadata": {
    "colab": {
      "provenance": [],
      "name": "streamlit-sektörler.py",
      "authorship_tag": "ABX9TyMV1qYNj7s0ZYb+xUHnBuH5",
      "include_colab_link": true
    },
    "kernelspec": {
      "name": "python3",
      "display_name": "Python 3"
    },
    "language_info": {
      "name": "python"
    }
  },
  "cells": [
    {
      "cell_type": "markdown",
      "metadata": {
        "id": "view-in-github",
        "colab_type": "text"
      },
      "source": [
        "<a href=\"https://colab.research.google.com/github/hetncr/hisse-sekt-r-streamlit/blob/main/streamlit_sekt%C3%B6rler_py.ipynb\" target=\"_parent\"><img src=\"https://colab.research.google.com/assets/colab-badge.svg\" alt=\"Open In Colab\"/></a>"
      ]
    },
    {
      "cell_type": "code",
      "execution_count": null,
      "metadata": {
        "id": "Uke7povvZfCR"
      },
      "outputs": [],
      "source": [
        "!pip install streamlit"
      ]
    },
    {
      "cell_type": "code",
      "source": [
        "pip install beautifulsoup4"
      ],
      "metadata": {
        "id": "t2QdrxH1Zfx8"
      },
      "execution_count": null,
      "outputs": []
    },
    {
      "cell_type": "code",
      "source": [
        "pip install requests"
      ],
      "metadata": {
        "id": "LGRFF2vyZf5m"
      },
      "execution_count": null,
      "outputs": []
    },
    {
      "cell_type": "code",
      "source": [
        "pip install pandas"
      ],
      "metadata": {
        "id": "y69KjVk-ZoXf"
      },
      "execution_count": null,
      "outputs": []
    },
    {
      "cell_type": "code",
      "source": [
        "import requests\n",
        "from bs4 import BeautifulSoup\n",
        "import streamlit as st\n",
        "\n",
        "# Load the hisse_adlari[] list\n",
        "hisse_adlari = [\"A1CAP\", \"ACSEL\", \"ADEL\"]\n",
        "\n",
        "# Create the selectbox\n",
        "hisse_select = st.selectbox(\"Hisse Seçin:\", hisse_adlari)\n",
        "\n",
        "# Get the selected stock\n",
        "hisse = hisse_select\n",
        "\n",
        "# Web scrapping code to get the sektör name\n",
        "url = \"https://www.isyatirim.com.tr/tr-tr/analiz/hisse/Sayfalar/Temel-Degerler-Ve-Oranlar.aspx?\"\n",
        "response = requests.get(url)\n",
        "temeldegerler = BeautifulSoup(response.text, \"html.parser\")\n",
        "\n",
        "# Find the table with the desired data\n",
        "table = temeldegerler.find(\"tbody\", id=\"temelTBody_Ozet\")\n",
        "\n",
        "# Iterate over the rows in the table\n",
        "for row in table.find_all(\"tr\"):\n",
        "    # Get the cells in the row\n",
        "    cells = row.find_all(\"td\")\n",
        "\n",
        "    # Get the stock name\n",
        "    stock_name = cells[0].find(\"a\").text\n",
        "\n",
        "    # Get the sector\n",
        "    sector = cells[2].text\n",
        "\n",
        "    # Check if the stock name matches the selected stock\n",
        "    if stock_name == hisse:\n",
        "        # Print the values\n",
        "        st.write(\"Hisse Adı:\", hisse)\n",
        "        st.write(\"Sektör Alanı:\", sector)\n",
        "\n"
      ],
      "metadata": {
        "id": "Fsi9vCWoZgQ8"
      },
      "execution_count": null,
      "outputs": []
    }
  ]
}